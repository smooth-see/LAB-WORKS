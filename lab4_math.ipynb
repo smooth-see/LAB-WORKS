{
 "cells": [
  {
   "cell_type": "code",
   "execution_count": null,
   "metadata": {},
   "outputs": [],
   "source": [
    "n = int(input(\"Enter degree: \"))\n",
    "to_radian = n * 3.14 / 180\n",
    "print(\"Radian: \", to_radian)"
   ]
  },
  {
   "cell_type": "code",
   "execution_count": null,
   "metadata": {},
   "outputs": [],
   "source": [
    "a = int(input(\"Enter a: \"))\n",
    "b = int(input(\"Enter b: \"))\n",
    "h = int(input(\"Enter h: \"))\n",
    "s = (a + b) * h / 2\n",
    "print(s)"
   ]
  },
  {
   "cell_type": "code",
   "execution_count": null,
   "metadata": {},
   "outputs": [],
   "source": [
    "import math\n",
    "\n",
    "def reg_polygon(n, l):\n",
    "    if n < 3:\n",
    "        return \"n must be greater than 3\"\n",
    "    else:\n",
    "        area = (n * (l ** 2) / ((4 * math.tan(math.pi / n))))\n",
    "\n",
    "n = int(input(\"Enter n: \"))\n",
    "l = int(input(\"Enter l: \"))"
   ]
  },
  {
   "cell_type": "code",
   "execution_count": 2,
   "metadata": {},
   "outputs": [
    {
     "name": "stdout",
     "output_type": "stream",
     "text": [
      "Area: 30\n"
     ]
    }
   ],
   "source": [
    "n = int(input(\"Enter n: \"))\n",
    "h = int(input(\"Enter h: \"))\n",
    "area = n * h\n",
    "print(\"Area:\", area)"
   ]
  }
 ],
 "metadata": {
  "kernelspec": {
   "display_name": "Python 3",
   "language": "python",
   "name": "python3"
  },
  "language_info": {
   "codemirror_mode": {
    "name": "ipython",
    "version": 3
   },
   "file_extension": ".py",
   "mimetype": "text/x-python",
   "name": "python",
   "nbconvert_exporter": "python",
   "pygments_lexer": "ipython3",
   "version": "3.9.6"
  }
 },
 "nbformat": 4,
 "nbformat_minor": 2
}
