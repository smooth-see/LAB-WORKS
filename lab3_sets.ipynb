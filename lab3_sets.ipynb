{
 "cells": [
  {
   "cell_type": "code",
   "execution_count": 6,
   "metadata": {},
   "outputs": [
    {
     "name": "stdout",
     "output_type": "stream",
     "text": [
      "PR SAUDAKAS LEGENDA\n"
     ]
    }
   ],
   "source": [
    "class upper_string:\n",
    "    def __init__(self):\n",
    "        self.text = \"\"\n",
    "    \n",
    "    def get_string(self):\n",
    "        self.text = input(\"Enter sentence: \")\n",
    "    \n",
    "    def print_string(self):\n",
    "        print(self.text.upper())\n",
    "\n",
    "lab_3 = upper_string()\n",
    "lab_3.get_string()\n",
    "lab_3.print_string()"
   ]
  },
  {
   "cell_type": "code",
   "execution_count": 13,
   "metadata": {},
   "outputs": [
    {
     "name": "stdout",
     "output_type": "stream",
     "text": [
      "Area : 0\n",
      "Area : 25\n"
     ]
    }
   ],
   "source": [
    "class shape:\n",
    "    def __init__(self):\n",
    "        self.value = 0\n",
    "    \n",
    "    def area(self):\n",
    "        print(f\"Area : {self.value}\")\n",
    "\n",
    "class square(shape):\n",
    "    def __init__(self):\n",
    "        super().__init__()\n",
    "        self.length = int(input(\"Enter length: \"))\n",
    "        self.value = self.length * self.length\n",
    "\n",
    "shape = shape()\n",
    "shape.area()\n",
    "\n",
    "square = square()\n",
    "square.area()\n"
   ]
  },
  {
   "cell_type": "code",
   "execution_count": 18,
   "metadata": {},
   "outputs": [
    {
     "name": "stdout",
     "output_type": "stream",
     "text": [
      "Area of Rectangle: 20\n"
     ]
    }
   ],
   "source": [
    "class rectangle:\n",
    "    def __init__(self):\n",
    "        self.length = int(input(\"Enter A: \"))\n",
    "        self.width = int(input(\"Enter B: \"))\n",
    "        self.area_value = self.length * self.width  \n",
    "\n",
    "    def area(self):\n",
    "        print(f\"Area of Rectangle: {self.area_value}\")\n",
    "\n",
    "rect = rectangle()\n",
    "rect.area()\n"
   ]
  },
  {
   "cell_type": "code",
   "execution_count": 19,
   "metadata": {},
   "outputs": [
    {
     "name": "stdout",
     "output_type": "stream",
     "text": [
      "Coordinates: (1, 2)\n",
      "Coordinates: (3, 4)\n",
      "Distance between points: 2.8284271247461903\n",
      "Coordinates: (5, 6)\n"
     ]
    }
   ],
   "source": [
    "import math\n",
    "\n",
    "class Point:\n",
    "    def __init__(self):\n",
    "        self.x = int(input(\"Enter X coordinate: \"))\n",
    "        self.y = int(input(\"Enter Y coordinate: \"))\n",
    "    \n",
    "    def show(self):\n",
    "        print(f\"Coordinates: ({self.x}, {self.y})\")\n",
    "    \n",
    "    def move(self):\n",
    "        self.x = int(input(\"Enter new X coordinate: \"))\n",
    "        self.y = int(input(\"Enter new Y coordinate: \"))\n",
    "    \n",
    "    def dist(self, other_point):\n",
    "        return math.sqrt((self.x - other_point.x) ** 2 + (self.y - other_point.y) ** 2)\n",
    "\n",
    "p1 = Point()\n",
    "p2 = Point()\n",
    "\n",
    "p1.show()\n",
    "p2.show()\n",
    "\n",
    "print(f\"Distance between points: {p1.dist(p2)}\")\n",
    "\n",
    "p1.move()\n",
    "p1.show()\n",
    "\n",
    "\n"
   ]
  },
  {
   "cell_type": "code",
   "execution_count": 20,
   "metadata": {},
   "outputs": [
    {
     "name": "stdout",
     "output_type": "stream",
     "text": [
      "Deposit: 20000.0\n",
      "Withdrawn: 34.0\n",
      "Withdrawn: 56.0\n"
     ]
    }
   ],
   "source": [
    "class bank_akk:\n",
    "    def __init__(self):\n",
    "        self.owner = input(\"Enter akk owner name: \")\n",
    "        self.balance = float(input(\"Enter balance: \"))\n",
    "    \n",
    "    def deposit(self):\n",
    "        amount = float(input(\"Enter deposit: \"))\n",
    "        if amount > 0:\n",
    "            self.balance += amount\n",
    "            print(f\"Deposit: {amount}\")\n",
    "        else:\n",
    "            print(\"Deposit must be positive.\")\n",
    "    \n",
    "    def withdraw(self):\n",
    "        amount = float(input(\"Enter withdrawal: \"))\n",
    "        if amount > self.balance:\n",
    "            print(\"Withdrawal denied\")\n",
    "        elif amount > 0:\n",
    "            self.balance -= amount\n",
    "            print(f\"Withdrawn: {amount}\")\n",
    "        else:\n",
    "            print(\"Withdrawal amount must be positive.\")\n",
    "\n",
    "\n",
    "account = bank_akk()\n",
    "\n",
    "account.deposit()\n",
    "account.withdraw()\n",
    "account.withdraw()  \n"
   ]
  },
  {
   "cell_type": "code",
   "execution_count": 21,
   "metadata": {},
   "outputs": [
    {
     "name": "stdout",
     "output_type": "stream",
     "text": [
      "Prime numbers: [2, 3, 5, 7]\n"
     ]
    }
   ],
   "source": [
    "def is_prime(n):\n",
    "    if n < 2:\n",
    "        return False\n",
    "    for i in range(2, int(n ** 0.5) + 1):\n",
    "        if n % i == 0:\n",
    "            return False\n",
    "    return True\n",
    "\n",
    "numbers = list(map(int, input(\"Enter numbers: \").split()))\n",
    "prime_numbers = list(filter(lambda x: is_prime(x), numbers))\n",
    "\n",
    "print(\"Prime numbers:\", prime_numbers)"
   ]
  }
 ],
 "metadata": {
  "kernelspec": {
   "display_name": "Python 3",
   "language": "python",
   "name": "python3"
  },
  "language_info": {
   "codemirror_mode": {
    "name": "ipython",
    "version": 3
   },
   "file_extension": ".py",
   "mimetype": "text/x-python",
   "name": "python",
   "nbconvert_exporter": "python",
   "pygments_lexer": "ipython3",
   "version": "3.9.6"
  }
 },
 "nbformat": 4,
 "nbformat_minor": 2
}
