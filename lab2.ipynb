{
 "cells": [
  {
   "cell_type": "code",
   "execution_count": null,
   "metadata": {},
   "outputs": [
    {
     "name": "stdout",
     "output_type": "stream",
     "text": [
      "True\n",
      "True\n",
      "False\n"
     ]
    }
   ],
   "source": [
    "print(1<3)\n",
    "print(2==2)\n",
    "print(3>4)"
   ]
  },
  {
   "cell_type": "code",
   "execution_count": null,
   "metadata": {},
   "outputs": [
    {
     "name": "stdout",
     "output_type": "stream",
     "text": [
      "b is greater than a\n"
     ]
    }
   ],
   "source": [
    "a=4\n",
    "b=8\n",
    "if a>b:\n",
    "    print(\"a is greater than b\")\n",
    "else:\n",
    "    print(\"b is greater than a\")"
   ]
  },
  {
   "cell_type": "code",
   "execution_count": null,
   "metadata": {},
   "outputs": [
    {
     "name": "stdout",
     "output_type": "stream",
     "text": [
      "True\n",
      "True\n"
     ]
    }
   ],
   "source": [
    "print(bool(\"PP2\"))\n",
    "print(bool(30))"
   ]
  },
  {
   "cell_type": "code",
   "execution_count": null,
   "metadata": {},
   "outputs": [
    {
     "name": "stdout",
     "output_type": "stream",
     "text": [
      "True\n",
      "True\n"
     ]
    }
   ],
   "source": [
    "a=32\n",
    "b=\"50\"\n",
    "print(bool(a))\n",
    "print(bool(b))"
   ]
  },
  {
   "cell_type": "code",
   "execution_count": null,
   "metadata": {},
   "outputs": [
    {
     "data": {
      "text/plain": [
       "True"
      ]
     },
     "metadata": {},
     "output_type": "display_data"
    }
   ],
   "source": [
    "bool(\"qqq\")\n",
    "bool(666)"
   ]
  },
  {
   "cell_type": "code",
   "execution_count": null,
   "metadata": {},
   "outputs": [
    {
     "name": "stdout",
     "output_type": "stream",
     "text": [
      "True\n"
     ]
    }
   ],
   "source": [
    "def myFunction() :\n",
    "  return True\n",
    "\n",
    "print(myFunction())"
   ]
  },
  {
   "cell_type": "code",
   "execution_count": null,
   "metadata": {},
   "outputs": [
    {
     "name": "stdout",
     "output_type": "stream",
     "text": [
      "yes\n"
     ]
    }
   ],
   "source": [
    "def myFunction() :\n",
    "  return True\n",
    "\n",
    "if myFunction():\n",
    "  print(\"yes\")\n",
    "else:\n",
    "  print(\"no\")"
   ]
  },
  {
   "cell_type": "code",
   "execution_count": null,
   "metadata": {},
   "outputs": [
    {
     "name": "stdout",
     "output_type": "stream",
     "text": [
      "True\n"
     ]
    }
   ],
   "source": [
    "x = 2025\n",
    "print(isinstance(x, int))"
   ]
  },
  {
   "cell_type": "code",
   "execution_count": null,
   "metadata": {},
   "outputs": [
    {
     "name": "stdout",
     "output_type": "stream",
     "text": [
      "9\n"
     ]
    }
   ],
   "source": [
    "print((20 - 4) - (4 + 3))"
   ]
  },
  {
   "cell_type": "code",
   "execution_count": null,
   "metadata": {},
   "outputs": [
    {
     "name": "stdout",
     "output_type": "stream",
     "text": [
      "50\n"
     ]
    }
   ],
   "source": [
    "print(10 + 4 * 10)"
   ]
  },
  {
   "cell_type": "code",
   "execution_count": null,
   "metadata": {},
   "outputs": [
    {
     "name": "stdout",
     "output_type": "stream",
     "text": [
      "5\n"
     ]
    }
   ],
   "source": [
    "print(5 + 4 - 7 + 3)"
   ]
  },
  {
   "cell_type": "code",
   "execution_count": null,
   "metadata": {},
   "outputs": [
    {
     "name": "stdout",
     "output_type": "stream",
     "text": [
      "['laptop', 'knowledge', 'skills']\n"
     ]
    }
   ],
   "source": [
    "pp2_list = [\"laptop\", \"knowledge\", \"skills\"]\n",
    "print(pp2_list)\n"
   ]
  },
  {
   "cell_type": "code",
   "execution_count": null,
   "metadata": {},
   "outputs": [
    {
     "name": "stdout",
     "output_type": "stream",
     "text": [
      "['laptop', 'knowledge', 'skills', 'laptop', 'skills']\n"
     ]
    }
   ],
   "source": [
    "pp2_list = [\"laptop\", \"knowledge\", \"skills\", \"laptop\", \"skills\"]\n",
    "print(pp2_list)"
   ]
  },
  {
   "cell_type": "code",
   "execution_count": null,
   "metadata": {},
   "outputs": [
    {
     "name": "stdout",
     "output_type": "stream",
     "text": [
      "3\n"
     ]
    }
   ],
   "source": [
    "pp2_list = [\"laptop\", \"knowledge\", \"skills\"]\n",
    "print(len(pp2_list))"
   ]
  },
  {
   "cell_type": "code",
   "execution_count": null,
   "metadata": {},
   "outputs": [],
   "source": [
    "list1 = [\"apple\", \"banana\", \"cherry\"]\n",
    "list2 = [1, 5, 7, 9, 3]\n",
    "list3 = [True, False, False]"
   ]
  },
  {
   "cell_type": "code",
   "execution_count": null,
   "metadata": {},
   "outputs": [],
   "source": [
    "list1 = [\"20\", 130, True, 40, \"qq\"]"
   ]
  },
  {
   "cell_type": "code",
   "execution_count": null,
   "metadata": {},
   "outputs": [
    {
     "name": "stdout",
     "output_type": "stream",
     "text": [
      "<class 'list'>\n"
     ]
    }
   ],
   "source": [
    "mylist = [\"bb\", \"cc\", \"aa\"]\n",
    "print(type(mylist))"
   ]
  },
  {
   "cell_type": "code",
   "execution_count": null,
   "metadata": {},
   "outputs": [
    {
     "name": "stdout",
     "output_type": "stream",
     "text": [
      "['eee', 'hh', 'qq']\n"
     ]
    }
   ],
   "source": [
    "thislist = list((\"eee\", \"hh\", \"qq\")) \n",
    "print(thislist)"
   ]
  },
  {
   "cell_type": "code",
   "execution_count": null,
   "metadata": {},
   "outputs": [
    {
     "name": "stdout",
     "output_type": "stream",
     "text": [
      "hh\n"
     ]
    }
   ],
   "source": [
    "thislist = list((\"eee\", \"hh\", \"qq\")) \n",
    "print(thislist[1])"
   ]
  },
  {
   "cell_type": "code",
   "execution_count": null,
   "metadata": {},
   "outputs": [
    {
     "name": "stdout",
     "output_type": "stream",
     "text": [
      "qq\n"
     ]
    }
   ],
   "source": [
    "thislist = [\"eee\", \"hh\", \"qq\"]\n",
    "print(thislist[-1])"
   ]
  },
  {
   "cell_type": "code",
   "execution_count": null,
   "metadata": {},
   "outputs": [
    {
     "name": "stdout",
     "output_type": "stream",
     "text": [
      "['eee', 'hh']\n"
     ]
    }
   ],
   "source": [
    "thislist = [\"eee\", \"hh\", \"qq\"]\n",
    "print(thislist[0:2])\n"
   ]
  },
  {
   "cell_type": "code",
   "execution_count": null,
   "metadata": {},
   "outputs": [
    {
     "name": "stdout",
     "output_type": "stream",
     "text": [
      "qq\n"
     ]
    }
   ],
   "source": [
    "thislist = [\"eee\", \"hh\", \"qq\"]\n",
    "print(thislist[2])"
   ]
  },
  {
   "cell_type": "code",
   "execution_count": null,
   "metadata": {},
   "outputs": [
    {
     "name": "stdout",
     "output_type": "stream",
     "text": [
      "['eee', 'hh']\n"
     ]
    }
   ],
   "source": [
    "thislist = [\"eee\", \"hh\", \"qq\"]\n",
    "print(thislist[-3:-1])"
   ]
  },
  {
   "cell_type": "code",
   "execution_count": null,
   "metadata": {},
   "outputs": [
    {
     "name": "stdout",
     "output_type": "stream",
     "text": [
      "['eee', 'wew', 'zxc']\n"
     ]
    }
   ],
   "source": [
    "thislist = [\"eee\", \"wew\", \"qq\"]\n",
    "thislist[2]= \"zxc\"\n",
    "print(thislist)"
   ]
  },
  {
   "cell_type": "code",
   "execution_count": null,
   "metadata": {},
   "outputs": [
    {
     "name": "stdout",
     "output_type": "stream",
     "text": [
      "['mmm', '666', 'qq']\n"
     ]
    }
   ],
   "source": [
    "thislist = [\"eee\", \"hh\", \"qq\"]\n",
    "thislist[0:2] = [\"mmm\", \"666\"]\n",
    "print(thislist)"
   ]
  },
  {
   "cell_type": "code",
   "execution_count": null,
   "metadata": {},
   "outputs": [
    {
     "name": "stdout",
     "output_type": "stream",
     "text": [
      "['eee', 'ss', 'aaa', 'qq']\n"
     ]
    }
   ],
   "source": [
    "thislist = [\"eee\", \"hh\", \"qq\"]\n",
    "thislist[1:2] = [\"ss\", \"aaa\"]\n",
    "print(thislist)"
   ]
  },
  {
   "cell_type": "code",
   "execution_count": null,
   "metadata": {},
   "outputs": [
    {
     "name": "stdout",
     "output_type": "stream",
     "text": [
      "['eee', 'hh', 'qwe', 'qq']\n"
     ]
    }
   ],
   "source": [
    "thislist = [\"eee\", \"hh\", \"qq\"]\n",
    "thislist.insert(2, \"qwe\")\n",
    "print(thislist)"
   ]
  },
  {
   "cell_type": "code",
   "execution_count": null,
   "metadata": {},
   "outputs": [
    {
     "name": "stdout",
     "output_type": "stream",
     "text": [
      "['eee', 'wew', 'qq', 'yayee']\n"
     ]
    }
   ],
   "source": [
    "thislist = [\"eee\", \"hh\", \"qq\"]\n",
    "thislist.append(\"yyy\")\n",
    "print(thislist)"
   ]
  },
  {
   "cell_type": "code",
   "execution_count": null,
   "metadata": {},
   "outputs": [
    {
     "name": "stdout",
     "output_type": "stream",
     "text": [
      "['eee', 'hh', 'qq', 'cc', 'ss', 'pp']\n"
     ]
    }
   ],
   "source": [
    "thislist = [\"eee\", \"hh\", \"qq\"]\n",
    "anlist = [\"cc\", \"ss\", \"pp\"]\n",
    "thislist.extend(anlist)\n",
    "print(thislist)"
   ]
  },
  {
   "cell_type": "code",
   "execution_count": null,
   "metadata": {},
   "outputs": [
    {
     "name": "stdout",
     "output_type": "stream",
     "text": [
      "['eee', 'hh', 'qq', '1', '2']\n"
     ]
    }
   ],
   "source": [
    "thislist = [\"eee\", \"hh\", \"qq\"]\n",
    "thistuple = (\"1\", \"2\")\n",
    "thislist.extend(thistuple)\n",
    "print(thislist)"
   ]
  },
  {
   "cell_type": "code",
   "execution_count": null,
   "metadata": {},
   "outputs": [
    {
     "name": "stdout",
     "output_type": "stream",
     "text": [
      "['hh', 'qq']\n"
     ]
    }
   ],
   "source": [
    "thislist = [\"eee\", \"hh\", \"qq\"]\n",
    "thislist.remove(\"eee\")\n",
    "print(thislist)\n"
   ]
  },
  {
   "cell_type": "code",
   "execution_count": null,
   "metadata": {},
   "outputs": [
    {
     "name": "stdout",
     "output_type": "stream",
     "text": [
      "['hh', 'qq', 'eee']\n"
     ]
    }
   ],
   "source": [
    "thislist = [\"eee\", \"hh\", \"qq\", \"eee\"]\n",
    "thislist.remove(\"eee\")\n",
    "print(thislist)\n"
   ]
  },
  {
   "cell_type": "code",
   "execution_count": null,
   "metadata": {},
   "outputs": [
    {
     "name": "stdout",
     "output_type": "stream",
     "text": [
      "['eee', 'hh']\n"
     ]
    }
   ],
   "source": [
    "thislist = [\"eee\", \"hh\", \"qq\"]\n",
    "thislist.pop(2)\n",
    "print(thislist)\n"
   ]
  },
  {
   "cell_type": "code",
   "execution_count": null,
   "metadata": {},
   "outputs": [
    {
     "name": "stdout",
     "output_type": "stream",
     "text": [
      "['eee', 'hh']\n"
     ]
    }
   ],
   "source": [
    "thislist = [\"eee\", \"hh\", \"qq\"]\n",
    "thislist.pop()\n",
    "print(thislist)\n"
   ]
  },
  {
   "cell_type": "code",
   "execution_count": null,
   "metadata": {},
   "outputs": [
    {
     "name": "stdout",
     "output_type": "stream",
     "text": [
      "['eee', 'qq']\n"
     ]
    }
   ],
   "source": [
    "thislist = [\"eee\", \"hh\", \"qq\"]\n",
    "del thislist[1]\n",
    "print(thislist)\n"
   ]
  },
  {
   "cell_type": "code",
   "execution_count": null,
   "metadata": {},
   "outputs": [
    {
     "name": "stdout",
     "output_type": "stream",
     "text": [
      "thislist removed\n"
     ]
    }
   ],
   "source": [
    "thislist = [\"eee\", \"hh\", \"qq\"]\n",
    "del thislist\n",
    "print(\"thislist removed\")\n"
   ]
  },
  {
   "cell_type": "code",
   "execution_count": null,
   "metadata": {},
   "outputs": [
    {
     "name": "stdout",
     "output_type": "stream",
     "text": [
      "[]\n"
     ]
    }
   ],
   "source": [
    "thislist = [\"eee\", \"hh\", \"qq\"]\n",
    "thislist.clear()\n",
    "print(thislist)"
   ]
  },
  {
   "cell_type": "markdown",
   "metadata": {},
   "source": [
    "loop list"
   ]
  },
  {
   "cell_type": "code",
   "execution_count": null,
   "metadata": {},
   "outputs": [
    {
     "name": "stdout",
     "output_type": "stream",
     "text": [
      "3\n"
     ]
    }
   ],
   "source": [
    "b = 0\n",
    "thislist = [\"eee\", \"hh\", \"qq\"]\n",
    "for a in thislist:\n",
    "    b += 1\n",
    "print(b)    \n",
    "    "
   ]
  },
  {
   "cell_type": "code",
   "execution_count": null,
   "metadata": {},
   "outputs": [
    {
     "name": "stdout",
     "output_type": "stream",
     "text": [
      "eee\n",
      "hh\n",
      "qq\n"
     ]
    }
   ],
   "source": [
    "thislist = [\"eee\", \"hh\", \"qq\"]\n",
    "for a in range(len(thislist)):\n",
    "    print(thislist[a])"
   ]
  },
  {
   "cell_type": "code",
   "execution_count": null,
   "metadata": {},
   "outputs": [
    {
     "name": "stdout",
     "output_type": "stream",
     "text": [
      "eee\n",
      "hh\n",
      "qq\n"
     ]
    },
    {
     "data": {
      "text/plain": [
       "[None, None, None]"
      ]
     },
     "metadata": {},
     "output_type": "display_data"
    }
   ],
   "source": [
    "thislist = [\"eee\", \"hh\", \"qq\"]\n",
    "[print(x) for x in thislist]"
   ]
  },
  {
   "cell_type": "code",
   "execution_count": null,
   "metadata": {},
   "outputs": [
    {
     "name": "stdout",
     "output_type": "stream",
     "text": [
      "['eee', 'hh', 'qq']\n"
     ]
    }
   ],
   "source": [
    "thislist = [\"eee\", \"hh\", \"qq\"]\n",
    "thislist.sort()\n",
    "print(thislist)"
   ]
  },
  {
   "cell_type": "code",
   "execution_count": null,
   "metadata": {},
   "outputs": [
    {
     "name": "stdout",
     "output_type": "stream",
     "text": [
      "['qq', 'hh', 'eee']\n"
     ]
    }
   ],
   "source": [
    "thislist = [\"eee\", \"hh\", \"qq\"]\n",
    "thislist.sort(reverse = True)\n",
    "print(thislist)"
   ]
  },
  {
   "cell_type": "code",
   "execution_count": null,
   "metadata": {},
   "outputs": [
    {
     "name": "stdout",
     "output_type": "stream",
     "text": [
      "[6, 3, 1]\n"
     ]
    }
   ],
   "source": [
    "thislist = [1, 3, 6]\n",
    "thislist.sort(reverse = True)\n",
    "print(thislist)"
   ]
  },
  {
   "cell_type": "code",
   "execution_count": null,
   "metadata": {},
   "outputs": [
    {
     "name": "stdout",
     "output_type": "stream",
     "text": [
      "['eee', 'hh', 'qq']\n"
     ]
    }
   ],
   "source": [
    "thislist = [\"eee\", \"hh\", \"qq\"]\n",
    "ylist = thislist.copy()\n",
    "print(ylist)"
   ]
  },
  {
   "cell_type": "code",
   "execution_count": null,
   "metadata": {},
   "outputs": [
    {
     "name": "stdout",
     "output_type": "stream",
     "text": [
      "['apple', 'banana', 'cherry']\n"
     ]
    }
   ],
   "source": [
    "thislist = [\"apple\", \"banana\", \"cherry\"]\n",
    "mylist = list(thislist)\n",
    "print(mylist)\n"
   ]
  },
  {
   "cell_type": "code",
   "execution_count": null,
   "metadata": {},
   "outputs": [
    {
     "name": "stdout",
     "output_type": "stream",
     "text": [
      "['eee', 'hh', 'qq']\n"
     ]
    }
   ],
   "source": [
    "thislist = [\"eee\", \"hh\", \"qq\"]\n",
    "ylist = thislist[:]\n",
    "print(ylist)"
   ]
  },
  {
   "cell_type": "code",
   "execution_count": null,
   "metadata": {},
   "outputs": [
    {
     "name": "stdout",
     "output_type": "stream",
     "text": [
      "['eee', 'hh', 'qq', 'www', 'kk', 'ss']\n"
     ]
    }
   ],
   "source": [
    "thislist = [\"eee\", \"hh\", \"qq\"]\n",
    "anlist = [\"www\", \"kk\", \"ss\"]\n",
    "print(thislist + anlist)"
   ]
  },
  {
   "cell_type": "code",
   "execution_count": null,
   "metadata": {},
   "outputs": [
    {
     "name": "stdout",
     "output_type": "stream",
     "text": [
      "['eee', 'hh', 'qq', 'www', 'kk', 'ss']\n"
     ]
    }
   ],
   "source": [
    "thislist = [\"eee\", \"hh\", \"qq\"]\n",
    "anlist = [\"www\", \"kk\", \"ss\"]\n",
    "for x in anlist:\n",
    "    thislist.append(x)\n",
    "print(thislist)    "
   ]
  },
  {
   "cell_type": "code",
   "execution_count": null,
   "metadata": {},
   "outputs": [
    {
     "name": "stdout",
     "output_type": "stream",
     "text": [
      "['eee', 'hh', 'qq', 'www', 'kk', 'ss']\n"
     ]
    }
   ],
   "source": [
    "thislist = [\"eee\", \"hh\", \"qq\"]\n",
    "anlist = [\"www\", \"kk\", \"ss\"]\n",
    "thislist.extend(anlist)\n",
    "print(thislist)"
   ]
  },
  {
   "cell_type": "code",
   "execution_count": null,
   "metadata": {},
   "outputs": [
    {
     "name": "stdout",
     "output_type": "stream",
     "text": [
      "('A', 'B', 'Y')\n"
     ]
    }
   ],
   "source": [
    "tup = (\"A\", \"B\", \"Y\")\n",
    "print(tup)"
   ]
  },
  {
   "cell_type": "code",
   "execution_count": null,
   "metadata": {},
   "outputs": [
    {
     "name": "stdout",
     "output_type": "stream",
     "text": [
      "('qq', 'qq', 'ss')\n"
     ]
    }
   ],
   "source": [
    "tuplinho = (\"qq\", \"qq\", \"ss\")\n",
    "print(tuplinho)"
   ]
  },
  {
   "cell_type": "code",
   "execution_count": null,
   "metadata": {},
   "outputs": [
    {
     "name": "stdout",
     "output_type": "stream",
     "text": [
      "3\n"
     ]
    }
   ],
   "source": [
    "tuplinho = (\"qq\", \"qq\", \"ss\")\n",
    "print(len(tuplinho))"
   ]
  },
  {
   "cell_type": "code",
   "execution_count": null,
   "metadata": {},
   "outputs": [
    {
     "name": "stdout",
     "output_type": "stream",
     "text": [
      "<class 'tuple'>\n",
      "<class 'str'>\n"
     ]
    }
   ],
   "source": [
    "tuple1 = (\"qq\",)\n",
    "print(type(tuple1))\n",
    "tuple2 = (\"qq\")\n",
    "print(type(tuple2))"
   ]
  },
  {
   "cell_type": "code",
   "execution_count": null,
   "metadata": {},
   "outputs": [
    {
     "name": "stdout",
     "output_type": "stream",
     "text": [
      "('qq', 'ww', 'zz') (1, 3, 6) (True, False, False)\n"
     ]
    }
   ],
   "source": [
    "tup1 = (\"qq\", \"ww\", \"zz\")\n",
    "tup2 = (1, 3 ,6)\n",
    "tup3 = (True, False, False)\n",
    "print(tup1,tup2,tup3)"
   ]
  },
  {
   "cell_type": "code",
   "execution_count": null,
   "metadata": {},
   "outputs": [
    {
     "name": "stdout",
     "output_type": "stream",
     "text": [
      "('22', 22, 'qq', True)\n"
     ]
    }
   ],
   "source": [
    "tup = (\"22\", 22, \"qq\", True)\n",
    "print(tup)"
   ]
  },
  {
   "cell_type": "code",
   "execution_count": null,
   "metadata": {},
   "outputs": [
    {
     "name": "stdout",
     "output_type": "stream",
     "text": [
      "qq\n"
     ]
    }
   ],
   "source": [
    "tuplinho = (\"qq\", \"qq\", \"ss\",\"qw\")\n",
    "print(tuplinho[1])"
   ]
  },
  {
   "cell_type": "code",
   "execution_count": null,
   "metadata": {},
   "outputs": [
    {
     "name": "stdout",
     "output_type": "stream",
     "text": [
      "('qq', 'ss')\n"
     ]
    }
   ],
   "source": [
    "tuplinho = (\"qq\", \"qq\", \"ss\",\"qw\")\n",
    "print(tuplinho[1:3])"
   ]
  },
  {
   "cell_type": "code",
   "execution_count": null,
   "metadata": {},
   "outputs": [
    {
     "name": "stdout",
     "output_type": "stream",
     "text": [
      "('qq', 'qq', 'ss')\n"
     ]
    }
   ],
   "source": [
    "tuplinho = (\"qq\", \"qq\", \"ss\",\"qw\")\n",
    "print(tuplinho[:3])"
   ]
  },
  {
   "cell_type": "code",
   "execution_count": null,
   "metadata": {},
   "outputs": [
    {
     "name": "stdout",
     "output_type": "stream",
     "text": [
      "('ss', 'qw')\n"
     ]
    }
   ],
   "source": [
    "tuplinho = (\"qq\", \"qq\", \"ss\",\"qw\")\n",
    "print(tuplinho[2:])"
   ]
  },
  {
   "cell_type": "code",
   "execution_count": null,
   "metadata": {},
   "outputs": [
    {
     "name": "stdout",
     "output_type": "stream",
     "text": [
      "('ss',)\n"
     ]
    }
   ],
   "source": [
    "tuplinho = (\"qq\", \"qq\", \"ss\",\"qw\")\n",
    "print(tuplinho[-2:-1])"
   ]
  },
  {
   "cell_type": "code",
   "execution_count": null,
   "metadata": {},
   "outputs": [
    {
     "name": "stdout",
     "output_type": "stream",
     "text": [
      "yes\n"
     ]
    }
   ],
   "source": [
    "tuplinho = (\"qq\", \"qq\", \"ss\",\"qw\")\n",
    "if \"ss\" in tuplinho:\n",
    "    print(\"yes\")"
   ]
  },
  {
   "cell_type": "code",
   "execution_count": null,
   "metadata": {},
   "outputs": [
    {
     "name": "stdout",
     "output_type": "stream",
     "text": [
      "('qq', 'qq', 'ss', 'qw', 'zz')\n"
     ]
    }
   ],
   "source": [
    "tuplinho = (\"qq\", \"qq\", \"ss\", \"qw\")\n",
    "x = list(tuplinho)  \n",
    "x.append(\"zz\")     \n",
    "y = tuple(x)        \n",
    "print(y)\n"
   ]
  },
  {
   "cell_type": "code",
   "execution_count": null,
   "metadata": {},
   "outputs": [
    {
     "name": "stdout",
     "output_type": "stream",
     "text": [
      "('qq', 'qq', 'ss')\n"
     ]
    }
   ],
   "source": [
    "\n",
    "tuplinho = (\"qq\", \"qq\", \"ss\")\n",
    "z= tuplinho\n",
    "print(z)"
   ]
  },
  {
   "cell_type": "code",
   "execution_count": null,
   "metadata": {},
   "outputs": [
    {
     "name": "stdout",
     "output_type": "stream",
     "text": [
      "apple\n",
      "['mango', 'papaya', 'pineapple']\n",
      "cherry\n"
     ]
    }
   ],
   "source": [
    "fruits = (\"apple\", \"mango\", \"papaya\", \"pineapple\", \"cherry\")\n",
    "\n",
    "(green, *tropic, red) = fruits\n",
    "\n",
    "print(green)\n",
    "print(tropic)\n",
    "print(red)"
   ]
  },
  {
   "cell_type": "code",
   "execution_count": null,
   "metadata": {},
   "outputs": [
    {
     "name": "stdout",
     "output_type": "stream",
     "text": [
      "apple\n",
      "banana\n",
      "cherry\n"
     ]
    }
   ],
   "source": [
    "thistuple = (\"apple\", \"banana\", \"cherry\")\n",
    "for x in thistuple:\n",
    "  print(x)"
   ]
  },
  {
   "cell_type": "code",
   "execution_count": null,
   "metadata": {},
   "outputs": [
    {
     "name": "stdout",
     "output_type": "stream",
     "text": [
      "apple\n",
      "banana\n",
      "cherry\n"
     ]
    }
   ],
   "source": [
    "thistuple = (\"apple\", \"banana\", \"cherry\")\n",
    "for i in range(len(thistuple)):\n",
    "  print(thistuple[i])"
   ]
  },
  {
   "cell_type": "code",
   "execution_count": null,
   "metadata": {},
   "outputs": [
    {
     "name": "stdout",
     "output_type": "stream",
     "text": [
      "apple\n",
      "banana\n",
      "cherry\n"
     ]
    }
   ],
   "source": [
    "thistuple = (\"apple\", \"banana\", \"cherry\")\n",
    "i = 0\n",
    "while i < len(thistuple):\n",
    "  print(thistuple[i])\n",
    "  i = i + 1"
   ]
  },
  {
   "cell_type": "code",
   "execution_count": null,
   "metadata": {},
   "outputs": [
    {
     "name": "stdout",
     "output_type": "stream",
     "text": [
      "('a', 'b', 'c', 1, 2, 3)\n"
     ]
    }
   ],
   "source": [
    "tuple1 = (\"a\", \"b\" , \"c\")\n",
    "tuple2 = (1, 2, 3)\n",
    "\n",
    "tuple3 = tuple1 + tuple2\n",
    "print(tuple3)"
   ]
  },
  {
   "cell_type": "code",
   "execution_count": null,
   "metadata": {},
   "outputs": [
    {
     "name": "stdout",
     "output_type": "stream",
     "text": [
      "('apple', 'banana', 'cherry', 'apple', 'banana', 'cherry')\n"
     ]
    }
   ],
   "source": [
    "fruits = (\"apple\", \"banana\", \"cherry\")\n",
    "mytuple = fruits * 2\n",
    "\n",
    "print(mytuple)"
   ]
  },
  {
   "cell_type": "markdown",
   "metadata": {},
   "source": [
    "Sets"
   ]
  },
  {
   "cell_type": "code",
   "execution_count": null,
   "metadata": {},
   "outputs": [
    {
     "name": "stdout",
     "output_type": "stream",
     "text": [
      "{'Y', 'A'}\n"
     ]
    }
   ],
   "source": [
    "myset = {\"Y\", \"A\", \"A\"}\n",
    "print(myset)"
   ]
  },
  {
   "cell_type": "code",
   "execution_count": null,
   "metadata": {},
   "outputs": [
    {
     "name": "stdout",
     "output_type": "stream",
     "text": [
      "{False, True, 'Y', 202, 'A'}\n"
     ]
    }
   ],
   "source": [
    "myset = {\"Y\", \"A\", \"A\", True, 1, False, 0, 202}\n",
    "print(myset)"
   ]
  },
  {
   "cell_type": "code",
   "execution_count": null,
   "metadata": {},
   "outputs": [
    {
     "name": "stdout",
     "output_type": "stream",
     "text": [
      "<class 'set'>\n"
     ]
    }
   ],
   "source": [
    "myset = {\"Y\", \"A\", \"A\"}\n",
    "print(type(myset))\n"
   ]
  },
  {
   "cell_type": "code",
   "execution_count": null,
   "metadata": {},
   "outputs": [
    {
     "name": "stdout",
     "output_type": "stream",
     "text": [
      "Y\n",
      "A\n"
     ]
    }
   ],
   "source": [
    "myset = {\"Y\", \"A\", \"A\"}\n",
    "for x in myset:\n",
    "    print(x)"
   ]
  },
  {
   "cell_type": "code",
   "execution_count": null,
   "metadata": {},
   "outputs": [
    {
     "name": "stdout",
     "output_type": "stream",
     "text": [
      "True\n"
     ]
    }
   ],
   "source": [
    "myset = {\"Y\", \"B\", \"A\"}\n",
    "print(\"Y\" in myset or \"QQ\" not in myset)"
   ]
  },
  {
   "cell_type": "code",
   "execution_count": null,
   "metadata": {},
   "outputs": [
    {
     "name": "stdout",
     "output_type": "stream",
     "text": [
      "{'qq', 'zz', 'A', 'ww', 'Y', 'B'}\n"
     ]
    }
   ],
   "source": [
    "myset = {\"Y\", \"A\", \"B\"}\n",
    "qq = {\"qq\", \"ww\", \"zz\"}\n",
    "myset.update(qq)\n",
    "print(myset)"
   ]
  },
  {
   "cell_type": "code",
   "execution_count": null,
   "metadata": {},
   "outputs": [
    {
     "name": "stdout",
     "output_type": "stream",
     "text": [
      "{'A', 'Y'}\n"
     ]
    }
   ],
   "source": [
    "myset = {\"Y\", \"B\", \"A\"}\n",
    "myset.discard(\"B\")\n",
    "print(myset)"
   ]
  },
  {
   "cell_type": "code",
   "execution_count": null,
   "metadata": {},
   "outputs": [
    {
     "name": "stdout",
     "output_type": "stream",
     "text": [
      "{'Y', 'B'}\n"
     ]
    }
   ],
   "source": [
    "myset = {\"Y\", \"B\", \"A\"}\n",
    "myset.pop()\n",
    "print(myset)"
   ]
  },
  {
   "cell_type": "code",
   "execution_count": null,
   "metadata": {},
   "outputs": [
    {
     "name": "stdout",
     "output_type": "stream",
     "text": [
      "set()\n"
     ]
    }
   ],
   "source": [
    "myset = {\"Y\", \"B\", \"A\"}\n",
    "myset.clear()\n",
    "print(myset)"
   ]
  },
  {
   "cell_type": "code",
   "execution_count": null,
   "metadata": {},
   "outputs": [],
   "source": [
    "\n",
    "myset = {\"Y\", \"B\", \"A\"}\n",
    "del myset"
   ]
  },
  {
   "cell_type": "code",
   "execution_count": null,
   "metadata": {},
   "outputs": [
    {
     "name": "stdout",
     "output_type": "stream",
     "text": [
      "A\n",
      "Y\n",
      "B\n"
     ]
    }
   ],
   "source": [
    "myset = {\"Y\", \"B\", \"A\"}\n",
    "for x in myset:\n",
    "    print(x)"
   ]
  },
  {
   "cell_type": "code",
   "execution_count": null,
   "metadata": {},
   "outputs": [
    {
     "name": "stdout",
     "output_type": "stream",
     "text": [
      "0\n",
      "1\n",
      "2\n"
     ]
    }
   ],
   "source": [
    "myset = {\"Y\", \"B\", \"A\"}\n",
    "for x in range(len(myset)):\n",
    "    print(x)"
   ]
  },
  {
   "cell_type": "code",
   "execution_count": null,
   "metadata": {},
   "outputs": [
    {
     "name": "stdout",
     "output_type": "stream",
     "text": [
      "{'S', 'V', 'A', 'Y', 'B'}\n",
      "set()\n",
      "{'B', 'Y', 'A'}\n",
      "{'S', 'V', 'Y', 'A', 'B'}\n"
     ]
    }
   ],
   "source": [
    "myset = {\"Y\", \"A\", \"B\"}\n",
    "set1 = {\"V\", \"V\", \"S\"}\n",
    "print(myset|set1)\n",
    "print(myset&set1)\n",
    "print(myset-set1)\n",
    "print(myset^set1)\n"
   ]
  },
  {
   "cell_type": "code",
   "execution_count": null,
   "metadata": {},
   "outputs": [
    {
     "name": "stdout",
     "output_type": "stream",
     "text": [
      "{'CR7': 88, 'MESSI': 87, 'NEYMAR': 86}\n",
      "88\n"
     ]
    }
   ],
   "source": [
    "stats={\n",
    "\"CR7\" : 88,\n",
    "\"MESSI\" : 87,\n",
    "\"NEYMAR\": 86    \n",
    "}\n",
    "print(stats)\n",
    "print(stats[\"CR7\"])"
   ]
  },
  {
   "cell_type": "code",
   "execution_count": null,
   "metadata": {},
   "outputs": [
    {
     "name": "stdout",
     "output_type": "stream",
     "text": [
      "88\n",
      "87\n",
      "86\n"
     ]
    }
   ],
   "source": [
    "stats={\n",
    "\"CR7\" : 88,\n",
    "\"MESSI\" : 87,\n",
    "\"NEYMAR\": 86    \n",
    "}\n",
    "for x in stats.values():\n",
    "    print(x)"
   ]
  },
  {
   "cell_type": "code",
   "execution_count": null,
   "metadata": {},
   "outputs": [
    {
     "name": "stdout",
     "output_type": "stream",
     "text": [
      "CR7\n",
      "MESSI\n",
      "NEYMAR\n"
     ]
    }
   ],
   "source": [
    "stats={\n",
    "\"CR7\" : 88,\n",
    "\"MESSI\" : 87,\n",
    "\"NEYMAR\": 86    \n",
    "}\n",
    "for x in stats.keys():\n",
    "    print(x)"
   ]
  },
  {
   "cell_type": "code",
   "execution_count": null,
   "metadata": {},
   "outputs": [
    {
     "name": "stdout",
     "output_type": "stream",
     "text": [
      "{'CR7': 88, 'MESSI': 87, 'NEYMAR': 86}\n",
      "{'CR7': 88, 'MESSI': 87, 'NEYMAR': 86}\n",
      "('CR7', 88)\n",
      "('MESSI', 87)\n",
      "('NEYMAR', 86)\n"
     ]
    }
   ],
   "source": [
    "\n",
    "\n",
    "stats={\n",
    "\"CR7\" : 88,\n",
    "\"MESSI\" : 87,\n",
    "\"NEYMAR\": 86    \n",
    "}\n",
    "fifa = stats.copy()\n",
    "print(fifa)\n",
    "fifa = stats.copy()\n",
    "print(fifa)\n",
    "for x in stats.items():\n",
    "    print(x)"
   ]
  },
  {
   "cell_type": "code",
   "execution_count": null,
   "metadata": {},
   "outputs": [
    {
     "name": "stdout",
     "output_type": "stream",
     "text": [
      "{'CR7': 88, 'MESSI': 87, 'NEYMAR': 86}\n"
     ]
    }
   ],
   "source": [
    "\n",
    "stats={\n",
    "\"CR7\" : 88,\n",
    "\"MESSI\" : 87,\n",
    "\"NEYMAR\": 86    \n",
    "}\n",
    "stats = dict(stats)\n",
    "print(stats)"
   ]
  },
  {
   "cell_type": "code",
   "execution_count": null,
   "metadata": {},
   "outputs": [
    {
     "name": "stdout",
     "output_type": "stream",
     "text": [
      "stats\n",
      "pace\n"
     ]
    }
   ],
   "source": [
    "\n",
    "stats={\n",
    "\"CR7\" : 88,\n",
    "\"MESSI\" : 87,\n",
    "\"NEYMAR\": 86    \n",
    "}\n",
    "pace={\n",
    "    \"CR7\" : 80,\n",
    "    \"MESSI\": 90,\n",
    "    \"NEYMAR\" : 0\n",
    "}\n",
    "info = {\n",
    "\"stats\" : stats,\n",
    " \"pace\" : pace  \n",
    "    }\n",
    "for x in info:\n",
    "    print(x)"
   ]
  },
  {
   "cell_type": "code",
   "execution_count": null,
   "metadata": {},
   "outputs": [
    {
     "name": "stdout",
     "output_type": "stream",
     "text": [
      "no\n"
     ]
    }
   ],
   "source": [
    "a = 3\n",
    "b = 4\n",
    "if a>b:\n",
    "    print(\"yes\")\n",
    "elif a==b:\n",
    "    print(\"yes\")\n",
    "else:\n",
    "    print(\"no\")"
   ]
  },
  {
   "cell_type": "code",
   "execution_count": null,
   "metadata": {},
   "outputs": [
    {
     "name": "stdout",
     "output_type": "stream",
     "text": [
      "w\n"
     ]
    }
   ],
   "source": [
    "a = 3 \n",
    "b = 4 \n",
    "c = 7\n",
    "if a>b and c>a:\n",
    "    print(\"q\")\n",
    "elif b==c or a<b:\n",
    "    print(\"w\")\n",
    "elif not a==c:\n",
    "    print(\"vse\")"
   ]
  },
  {
   "cell_type": "code",
   "execution_count": null,
   "metadata": {},
   "outputs": [
    {
     "name": "stdout",
     "output_type": "stream",
     "text": [
      "siuu\n"
     ]
    }
   ],
   "source": [
    "a = 3 \n",
    "b = 4 \n",
    "c = 7\n",
    "if a<b:\n",
    "    if b<c:\n",
    "        print(\"siuu\")"
   ]
  },
  {
   "cell_type": "code",
   "execution_count": null,
   "metadata": {},
   "outputs": [],
   "source": [
    "a = 3 \n",
    "b = 4\n",
    "if a<b:\n",
    "    pass"
   ]
  },
  {
   "cell_type": "code",
   "execution_count": null,
   "metadata": {},
   "outputs": [
    {
     "name": "stdout",
     "output_type": "stream",
     "text": [
      "1\n",
      "2\n",
      "4\n",
      "5\n",
      "6\n"
     ]
    }
   ],
   "source": [
    "i = 0\n",
    "while i < 6:\n",
    "  i += 1\n",
    "  if i == 3:\n",
    "    continue\n",
    "  print(i)"
   ]
  },
  {
   "cell_type": "code",
   "execution_count": null,
   "metadata": {},
   "outputs": [
    {
     "name": "stdout",
     "output_type": "stream",
     "text": [
      "1\n",
      "2\n",
      "3\n",
      "4\n",
      "5\n",
      "i is no longer less than 6\n"
     ]
    }
   ],
   "source": [
    "i = 1\n",
    "while i < 6:\n",
    "  print(i)\n",
    "  i += 1\n",
    "else:\n",
    "  print(\"i is no longer less than 6\")"
   ]
  },
  {
   "cell_type": "code",
   "execution_count": null,
   "metadata": {},
   "outputs": [
    {
     "name": "stdout",
     "output_type": "stream",
     "text": [
      "apple\n",
      "cherry\n"
     ]
    }
   ],
   "source": [
    "fruits = [\"apple\", \"banana\", \"cherry\"]\n",
    "for x in fruits:\n",
    "  if x == \"banana\":\n",
    "    continue\n",
    "  print(x)"
   ]
  },
  {
   "cell_type": "code",
   "execution_count": null,
   "metadata": {},
   "outputs": [
    {
     "name": "stdout",
     "output_type": "stream",
     "text": [
      "1\n",
      "4\n",
      "7\n",
      "vse\n"
     ]
    }
   ],
   "source": [
    "for x in range(1, 10, 3):\n",
    "    print(x)\n",
    "else:\n",
    "    print(\"vse\")"
   ]
  },
  {
   "cell_type": "code",
   "execution_count": null,
   "metadata": {},
   "outputs": [
    {
     "name": "stdout",
     "output_type": "stream",
     "text": [
      "9\n"
     ]
    }
   ],
   "source": [
    "a = 0\n",
    "for x in range(3):\n",
    "    for y in range(3):\n",
    "        a+=1\n",
    "print(a)        "
   ]
  }
 ],
 "metadata": {
  "language_info": {
   "name": "python"
  }
 },
 "nbformat": 4,
 "nbformat_minor": 2
}
