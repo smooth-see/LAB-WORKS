{
 "cells": [
  {
   "cell_type": "code",
   "execution_count": 1,
   "metadata": {},
   "outputs": [
    {
     "name": "stdout",
     "output_type": "stream",
     "text": [
      "2025-02-15\n"
     ]
    }
   ],
   "source": [
    "import datetime\n",
    "\n",
    "def subtract_five_days():\n",
    "    current_date = datetime.datetime.now()\n",
    "    cnt = current_date - datetime.timedelta(days=5)\n",
    "    return cnt.strftime('%Y-%m-%d')\n",
    "\n",
    "print(subtract_five_days())"
   ]
  },
  {
   "cell_type": "code",
   "execution_count": 2,
   "metadata": {},
   "outputs": [
    {
     "name": "stdout",
     "output_type": "stream",
     "text": [
      "(datetime.date(2025, 2, 19), datetime.date(2025, 2, 20), datetime.date(2025, 2, 21))\n"
     ]
    }
   ],
   "source": [
    "import datetime\n",
    "\n",
    "def yesterday_today_tomorrow():\n",
    "    today = datetime.date.today()\n",
    "    yesterday = today - datetime.timedelta(days=1)\n",
    "    tomorrow = today + datetime.timedelta(days=1)\n",
    "    return yesterday, today, tomorrow\n",
    "\n",
    "print(yesterday_today_tomorrow())"
   ]
  },
  {
   "cell_type": "code",
   "execution_count": 7,
   "metadata": {},
   "outputs": [
    {
     "name": "stdout",
     "output_type": "stream",
     "text": [
      "2025-02-20 09:47:13\n"
     ]
    }
   ],
   "source": [
    "def drop_microseconds():\n",
    "    current_date = datetime.datetime.now()\n",
    "    return current_date.replace(microsecond=0)\n",
    "\n",
    "print(drop_microseconds())"
   ]
  },
  {
   "cell_type": "code",
   "execution_count": 10,
   "metadata": {},
   "outputs": [
    {
     "name": "stdout",
     "output_type": "stream",
     "text": [
      "879300.0\n"
     ]
    }
   ],
   "source": [
    "import datetime \n",
    "\n",
    "def to_calculate(date1, date2):\n",
    "    dif = date2 - date1\n",
    "    return dif.total_seconds()\n",
    "\n",
    "\n",
    "date1 = datetime.datetime(2025, 2, 10, 14, 30, 0)\n",
    "date2 = datetime.datetime(2025, 2, 20, 18, 45, 0)\n",
    "\n",
    "print(to_calculate(date1, date2))"
   ]
  }
 ],
 "metadata": {
  "kernelspec": {
   "display_name": "Python 3",
   "language": "python",
   "name": "python3"
  },
  "language_info": {
   "codemirror_mode": {
    "name": "ipython",
    "version": 3
   },
   "file_extension": ".py",
   "mimetype": "text/x-python",
   "name": "python",
   "nbconvert_exporter": "python",
   "pygments_lexer": "ipython3",
   "version": "3.9.6"
  }
 },
 "nbformat": 4,
 "nbformat_minor": 2
}
