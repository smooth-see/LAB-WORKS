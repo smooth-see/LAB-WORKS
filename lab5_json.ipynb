{
 "cells": [
  {
   "cell_type": "code",
   "execution_count": null,
   "metadata": {},
   "outputs": [],
   "source": [
    "import json \n",
    "import pandas as pd\n",
    "\n",
    "def parse_json(file_path):\n",
    "    with open(file_path, \"r\") as file:\n",
    "        data = json.load(file)\n",
    "    \n",
    "    interfaces = []\n",
    "    for item in data[\"imdata\"]:\n",
    "        attributes = item[\"l1PhysIf\"][\"attributes\"]\n",
    "        interfaces.append({\n",
    "            \"ID\": attributes[\"id\"],\n",
    "            \"Admin State\": attributes[\"adminSt\"],\n",
    "            \"Auto Negotiation\": attributes[\"autoNeg\"],\n",
    "            \"Mode\": attributes[\"mode\"],\n",
    "            \"MTU\": attributes[\"mtu\"],\n",
    "            \"Speed\": attributes[\"speed\"],\n",
    "            \"Switching State\": attributes[\"switchingSt\"],\n",
    "            \"Usage\": attributes[\"usage\"],\n",
    "            \"Last Modified\": attributes[\"modTs\"]\n",
    "        })\n",
    "    \n",
    "    df = pd.DataFrame(interfaces)\n",
    "    return df\n",
    "\n",
    "if __name__ == \"__main__\":\n",
    "    file_path = \"sample_date.json\"  \n",
    "    df = parse_json(file_path)\n",
    "    print(df)\n"
   ]
  }
 ],
 "metadata": {
  "kernelspec": {
   "display_name": "Python 3",
   "language": "python",
   "name": "python3"
  },
  "language_info": {
   "codemirror_mode": {
    "name": "ipython",
    "version": 3
   },
   "file_extension": ".py",
   "mimetype": "text/x-python",
   "name": "python",
   "nbconvert_exporter": "python",
   "pygments_lexer": "ipython3",
   "version": "3.9.6"
  }
 },
 "nbformat": 4,
 "nbformat_minor": 2
}
