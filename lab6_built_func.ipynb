{
 "cells": [
  {
   "cell_type": "code",
   "execution_count": null,
   "metadata": {},
   "outputs": [
    {
     "name": "stdout",
     "output_type": "stream",
     "text": [
      "720\n"
     ]
    }
   ],
   "source": [
    "def multiply_list(num):\n",
    "    result = 1\n",
    "    for i in num:\n",
    "        result *= i\n",
    "    return result\n",
    "\n",
    "num = [2,3,4,5,6]\n",
    "print(multiply_list(num))"
   ]
  },
  {
   "cell_type": "code",
   "execution_count": null,
   "metadata": {},
   "outputs": [
    {
     "name": "stdout",
     "output_type": "stream",
     "text": [
      "(('num of up', 7), ('num oflow', 3))\n"
     ]
    }
   ],
   "source": [
    "def calculate_up_low(str):\n",
    "    up = 0\n",
    "    low = 0\n",
    "    for i in str:\n",
    "        if i.isupper():\n",
    "            up += 1    \n",
    "        elif i.islower():\n",
    "            low += 1\n",
    "    return(\"num of up\", up), (\"num oflow\", low)\n",
    "\n",
    "str = \"STOP RuNNig\"\n",
    "print(calculate_up_low(str))"
   ]
  },
  {
   "cell_type": "code",
   "execution_count": 11,
   "metadata": {},
   "outputs": [
    {
     "name": "stdout",
     "output_type": "stream",
     "text": [
      "palindrome\n"
     ]
    }
   ],
   "source": [
    "def palindrome(str):\n",
    "    if str == str[::-1]:\n",
    "        return \"palindrome\"\n",
    "    else:\n",
    "        return \"not palindrome\"\n",
    "\n",
    "str = \"level\"\n",
    "print(palindrome(str))"
   ]
  },
  {
   "cell_type": "code",
   "execution_count": null,
   "metadata": {},
   "outputs": [
    {
     "name": "stdout",
     "output_type": "stream",
     "text": [
      "Square root of 25100 after 2123 milliseconds is 158.42979517754858\n"
     ]
    }
   ],
   "source": [
    "import time \n",
    "import math\n",
    "\n",
    "time = int(input(\"Enter a number: \"))\n",
    "delay_ms = int(input(\"Enter b number: \"))\n",
    "\n",
    "time.sleep(delay_ms / 1000)\n",
    "\n",
    "print(f\"Square root of {time} after {delay_ms} milliseconds is {math.sqrt(time)}\")\n"
   ]
  },
  {
   "cell_type": "code",
   "execution_count": null,
   "metadata": {},
   "outputs": [
    {
     "name": "stdout",
     "output_type": "stream",
     "text": [
      "True\n",
      "False\n"
     ]
    }
   ],
   "source": [
    "def tuple_true(tup):\n",
    "    return all(tup)\n",
    "\n",
    "tup1 = (True, True, True)\n",
    "tup2 = (True, False, True)\n",
    "tup3 = (1, 2, 3)\n",
    "\n",
    "print(tuple_true(tup1))\n",
    "print(tuple_true(tup2))\n",
    "print(tuple_true(tup3))"
   ]
  }
 ],
 "metadata": {
  "kernelspec": {
   "display_name": "Python 3",
   "language": "python",
   "name": "python3"
  },
  "language_info": {
   "codemirror_mode": {
    "name": "ipython",
    "version": 3
   },
   "file_extension": ".py",
   "mimetype": "text/x-python",
   "name": "python",
   "nbconvert_exporter": "python",
   "pygments_lexer": "ipython3",
   "version": "3.9.6"
  }
 },
 "nbformat": 4,
 "nbformat_minor": 2
}
