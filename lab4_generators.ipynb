{
 "cells": [
  {
   "cell_type": "code",
   "execution_count": 9,
   "metadata": {},
   "outputs": [
    {
     "name": "stdout",
     "output_type": "stream",
     "text": [
      "1\n",
      "4\n",
      "9\n",
      "16\n",
      "25\n",
      "36\n"
     ]
    }
   ],
   "source": [
    "def to_square(n):\n",
    "    for i in range(1, n + 1):\n",
    "        yield i * i\n",
    "\n",
    "num = int(input(\"Enter number: \"))\n",
    "for i in to_square(num):\n",
    "    print(i)"
   ]
  },
  {
   "cell_type": "code",
   "execution_count": 10,
   "metadata": {},
   "outputs": [
    {
     "name": "stdout",
     "output_type": "stream",
     "text": [
      "0\n",
      "2\n",
      "4\n"
     ]
    }
   ],
   "source": [
    "def sep_even(n):\n",
    "    for i in range(0, n + 1, 2):\n",
    "        yield i\n",
    "\n",
    "n = int(input(\"Enter number: \"))\n",
    "for i in sep_even(n):\n",
    "    print(i)"
   ]
  },
  {
   "cell_type": "code",
   "execution_count": 11,
   "metadata": {},
   "outputs": [
    {
     "name": "stdout",
     "output_type": "stream",
     "text": [
      "0\n",
      "12\n"
     ]
    }
   ],
   "source": [
    "def to_3_4(n):\n",
    "    for i in range(0, n + 1):\n",
    "        if i % 3 == 0 and i % 4 == 0:\n",
    "            yield i\n",
    "\n",
    "n = int(input(\"Enter number: \"))\n",
    "for i in to_3_4(n):\n",
    "    print(i)"
   ]
  },
  {
   "cell_type": "code",
   "execution_count": 12,
   "metadata": {},
   "outputs": [
    {
     "name": "stdout",
     "output_type": "stream",
     "text": [
      "4\n",
      "9\n",
      "16\n",
      "25\n",
      "36\n"
     ]
    }
   ],
   "source": [
    "def from_a_to_b(a, b):\n",
    "    for i in range(a, b + 1):\n",
    "        yield i * i\n",
    "\n",
    "a = int(input(\"Enter a: \"))\n",
    "b = int(input(\"Enter b: \"))\n",
    "for i in from_a_to_b(a, b):\n",
    "    print(i)"
   ]
  },
  {
   "cell_type": "code",
   "execution_count": 13,
   "metadata": {},
   "outputs": [
    {
     "name": "stdout",
     "output_type": "stream",
     "text": [
      "4\n",
      "3\n",
      "2\n",
      "1\n",
      "0\n"
     ]
    }
   ],
   "source": [
    "def from_a_to_0(a):\n",
    "    for i in range(a, -1, -1):\n",
    "        yield i\n",
    "\n",
    "n  = int(input(\"Enter number: \"))\n",
    "for i in from_a_to_0(n):\n",
    "    print(i)"
   ]
  }
 ],
 "metadata": {
  "kernelspec": {
   "display_name": "Python 3",
   "language": "python",
   "name": "python3"
  },
  "language_info": {
   "codemirror_mode": {
    "name": "ipython",
    "version": 3
   },
   "file_extension": ".py",
   "mimetype": "text/x-python",
   "name": "python",
   "nbconvert_exporter": "python",
   "pygments_lexer": "ipython3",
   "version": "3.9.6"
  }
 },
 "nbformat": 4,
 "nbformat_minor": 2
}
