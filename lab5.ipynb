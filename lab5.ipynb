{
 "cells": [
  {
   "cell_type": "code",
   "execution_count": 17,
   "metadata": {},
   "outputs": [
    {
     "name": "stdout",
     "output_type": "stream",
     "text": [
      "'a': True\n",
      "'ab': True\n",
      "'abb': True\n",
      "'aabb': True\n",
      "'b': True\n",
      "'aaa': True\n",
      "'abab': False\n",
      "'': True\n"
     ]
    }
   ],
   "source": [
    "import re\n",
    "\n",
    "def match_pattern(string):\n",
    "    pattern = r'^a*b*$'  \n",
    "    return bool(re.fullmatch(pattern, string))  \n",
    "\n",
    "test_strings = [\"a\", \"ab\", \"abb\", \"aabb\", \"b\", \"aaa\", \"abab\", \"\"]\n",
    "for s in test_strings:\n",
    "    print(f\"'{s}': {match_pattern(s)}\")\n"
   ]
  },
  {
   "cell_type": "code",
   "execution_count": 18,
   "metadata": {},
   "outputs": [
    {
     "name": "stdout",
     "output_type": "stream",
     "text": [
      "'abb': False\n",
      "'abbb': False\n",
      "'a': False\n",
      "'ab': False\n",
      "'abbbb': False\n",
      "'aabb': False\n",
      "'abab': False\n",
      "'': False\n"
     ]
    }
   ],
   "source": [
    "import re\n",
    "\n",
    "def match_pattern(string):\n",
    "    pattern = r'abb(1, 2)$'\n",
    "    return bool(re.fullmatch(pattern, string))\n",
    "\n",
    "test_strings = [\"abb\", \"abbb\", \"a\", \"ab\", \"abbbb\", \"aabb\", \"abab\", \"\"]\n",
    "for s in test_strings:\n",
    "    print(f\"'{s}': {match_pattern(s)}\")"
   ]
  },
  {
   "cell_type": "code",
   "execution_count": 19,
   "metadata": {},
   "outputs": [
    {
     "name": "stdout",
     "output_type": "stream",
     "text": [
      "'abc_def': False\n",
      "'a_b': False\n",
      "'abcd_efg': False\n",
      "'A_bc': False\n",
      "'abcD_ef': False\n",
      "'abc__def': False\n",
      "'abc-def': False\n",
      "'abcd': False\n"
     ]
    }
   ],
   "source": [
    "import re\n",
    "\n",
    "def match_pattern(string):\n",
    "    pattern = r'^[a-z]+_[a-a]+$'\n",
    "    return bool(re.fullmatch(pattern, string))\n",
    "\n",
    "\n",
    "test_strings = [\"abc_def\", \"a_b\", \"abcd_efg\", \"A_bc\", \"abcD_ef\", \"abc__def\", \"abc-def\", \"abcd\"]\n",
    "for s in test_strings:\n",
    "    print(f\"'{s}': {match_pattern(s)}\")"
   ]
  },
  {
   "cell_type": "code",
   "execution_count": 21,
   "metadata": {},
   "outputs": [
    {
     "name": "stdout",
     "output_type": "stream",
     "text": [
      "'Abc': True\n",
      "'A': False\n",
      "'Test': True\n",
      "'Hello': True\n",
      "'HELLO': False\n",
      "'hello': False\n",
      "'Test123': False\n",
      "'T': False\n"
     ]
    }
   ],
   "source": [
    "import re \n",
    "\n",
    "def match_pattern(string):\n",
    "    pattern = r'^[A-Z][a-z]+$'\n",
    "    return bool(re.fullmatch(pattern, string))\n",
    "\n",
    "test_strings = [\"Abc\", \"A\", \"Test\", \"Hello\", \"HELLO\", \"hello\", \"Test123\", \"T\"]\n",
    "for s in test_strings:\n",
    "    print(f\"'{s}': {match_pattern(s)}\")"
   ]
  },
  {
   "cell_type": "code",
   "execution_count": null,
   "metadata": {},
   "outputs": [],
   "source": [
    "import re \n",
    "\n",
    "def match_pattern(string):\n",
    "    pattern = r'^a. * b$'\n",
    "    return bool(re.fullmatch(pattern, string))\n",
    "\n",
    "test_strings = [\"ab\", \"a123b\", \"axb\", \"a_b\", \"aAnythingb\", \"b\", \"abc\", \"bca\"]\n",
    "for s in test_strings:\n",
    "    print(f\"'{s}': {match_pattern(s)}\")"
   ]
  },
  {
   "cell_type": "code",
   "execution_count": 23,
   "metadata": {},
   "outputs": [
    {
     "name": "stdout",
     "output_type": "stream",
     "text": [
      "'Hello, world. This is a test':'Hello:world:This:is:a:test'\n",
      "'Python is fun':'Python:is:fun'\n",
      "'Comma,separated,values':'Comma:separated:values'\n",
      "'Multiple   spaces':'Multiple:spaces'\n"
     ]
    }
   ],
   "source": [
    "import re\n",
    "\n",
    "def match_pattern(string):\n",
    "    pattern = r'[ .,]+'\n",
    "    return re.sub(pattern, \":\", string)\n",
    "\n",
    "test_strings = [\"Hello, world. This is a test\", \"Python is fun\", \"Comma,separated,values\", \"Multiple   spaces\"]\n",
    "for s in test_strings:\n",
    "    print(f\"'{s}':'{match_pattern(s)}'\")"
   ]
  },
  {
   "cell_type": "code",
   "execution_count": 24,
   "metadata": {},
   "outputs": [
    {
     "name": "stdout",
     "output_type": "stream",
     "text": [
      "'hello_world':''helloWorld'\n",
      "'snake_case_string':''snakeCaseString'\n",
      "'convert_this_to_camel':''convertThisToCamel'\n"
     ]
    }
   ],
   "source": [
    "import re \n",
    "\n",
    "def snake_to_camel(name):\n",
    "    comp = name.split('_')\n",
    "    return comp[0] + ''.join(x.title() for x in comp[1:])\n",
    "\n",
    "test_strings = [\"hello_world\", \"snake_case_string\", \"convert_this_to_camel\"]\n",
    "for s in test_strings:\n",
    "    print(f\"'{s}':''{snake_to_camel(s)}'\")\n"
   ]
  },
  {
   "cell_type": "code",
   "execution_count": 27,
   "metadata": {},
   "outputs": [
    {
     "name": "stdout",
     "output_type": "stream",
     "text": [
      "'HelloWorld'--> '['', 'Hello', 'World']'\n",
      "'SplitAtUppercase'--> '['', 'Split', 'At', 'Uppercase']'\n",
      "'ThisIsATest'--> '['', 'This', 'Is', 'A', 'Test']'\n",
      "'PythonRocks'--> '['', 'Python', 'Rocks']'\n"
     ]
    }
   ],
   "source": [
    "import re \n",
    "\n",
    "def split_upper_case(name):\n",
    "    pattern = r'(?=[A-Z])'\n",
    "    return re.split(pattern, name)\n",
    "\n",
    "test_strings = [\"HelloWorld\", \"SplitAtUppercase\", \"ThisIsATest\", \"PythonRocks\"]\n",
    "for s in test_strings:\n",
    "    print(f\"'{s}'--> '{split_upper_case(s)}'\")"
   ]
  },
  {
   "cell_type": "code",
   "execution_count": 28,
   "metadata": {},
   "outputs": [
    {
     "name": "stdout",
     "output_type": "stream",
     "text": [
      "'HelloWorld' --> 'Hello World'\n",
      "'InsertSpacesBetweenWords' --> 'Insert Spaces Between Words'\n",
      "'ThisIsAnExample' --> 'This Is An Example'\n",
      "'PythonProgramming' --> 'Python Programming'\n"
     ]
    }
   ],
   "source": [
    "import re \n",
    "\n",
    "def insert_space(name):\n",
    "    pattern = r'(?=[A-Z])'\n",
    "    return ' '.join(re.split(pattern, name)).strip()\n",
    "\n",
    "test_strings = [\"HelloWorld\", \"InsertSpacesBetweenWords\", \"ThisIsAnExample\", \"PythonProgramming\"]\n",
    "for s in test_strings:\n",
    "    print(f\"'{s}' --> '{insert_space(s)}'\")"
   ]
  },
  {
   "cell_type": "code",
   "execution_count": 29,
   "metadata": {},
   "outputs": [
    {
     "name": "stdout",
     "output_type": "stream",
     "text": [
      "'HelloWorld'--> 'hello_world'\n",
      "'CamelCaseToSnake'--> 'camel_case_to_snake'\n",
      "'ThisIsATest'--> 'this_is_a_test'\n",
      "'PythonProgramming'--> 'python_programming'\n"
     ]
    }
   ],
   "source": [
    "import re\n",
    "\n",
    "def camel_to_snake(name):\n",
    "    pattern = r'(?<!^)(?=[A-Z])'\n",
    "    return '_'.join(re.split(pattern, name)).lower()\n",
    "\n",
    "test_strings = [\"HelloWorld\", \"CamelCaseToSnake\", \"ThisIsATest\", \"PythonProgramming\"]\n",
    "for s in test_strings:\n",
    "    print(f\"'{s}'--> '{camel_to_snake(s)}'\" )"
   ]
  }
 ],
 "metadata": {
  "kernelspec": {
   "display_name": "Python 3",
   "language": "python",
   "name": "python3"
  },
  "language_info": {
   "codemirror_mode": {
    "name": "ipython",
    "version": 3
   },
   "file_extension": ".py",
   "mimetype": "text/x-python",
   "name": "python",
   "nbconvert_exporter": "python",
   "pygments_lexer": "ipython3",
   "version": "3.9.6"
  }
 },
 "nbformat": 4,
 "nbformat_minor": 2
}
